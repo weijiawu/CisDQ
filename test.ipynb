{
 "cells": [
  {
   "cell_type": "code",
   "execution_count": 99,
   "id": "awful-contest",
   "metadata": {},
   "outputs": [
    {
     "name": "stdout",
     "output_type": "stream",
     "text": [
      "Compressed Tensor Shape: torch.Size([51, 20])\n"
     ]
    },
    {
     "data": {
      "image/png": "[encoded data removed]",
      "text/plain": [
       "<Figure size 432x288 with 2 Axes>"
      ]
     },
     "metadata": {
      "needs_background": "light"
     },
     "output_type": "display_data"
    }
   ],
   "source": [
    "import torch\n",
    "import torch.nn.functional as F\n",
    "import matplotlib.pyplot as plt\n",
    "import numpy as np\n",
    "import os\n",
    "# 创建一个形状为 (21, 512, 512) 的示例张量\n",
    "# tensor = torch.randn(21, 512, 512)\n",
    "\n",
    "path = \"./demo/cisdq/voc_15_1_0/\"\n",
    "image_list = os.listdir(path)\n",
    "tensor_list = []\n",
    "for idx,name in enumerate(image_list):\n",
    "    if idx>50:\n",
    "        break\n",
    "    \n",
    "    name_p = os.path.join(path,name)\n",
    "    # 从.npy文件加载数据\n",
    "    data_np = np.load(name_p)\n",
    "\n",
    "    # 将NumPy数组转换为PyTorch张量\n",
    "    data_tensor = torch.from_numpy(data_np)[1:]\n",
    "    \n",
    "#     print(data_tensor.shape)\n",
    "#     assert False\n",
    "    # 进行全局平均池化，将 (512, 512) 降为 (1, 1)\n",
    "    pooled_tensor = F.adaptive_avg_pool2d(data_tensor, (1, 1))\n",
    "\n",
    "    # 将结果展平为一维\n",
    "    flattened_tensor = pooled_tensor.view(-1)\n",
    "    tensor_list.append(flattened_tensor)\n",
    "#     print(flattened_tensor.shape)\n",
    "    # 打印压缩后的张量形状\n",
    "stacked_tensor = torch.stack(tensor_list)\n",
    "print(\"Compressed Tensor Shape:\", stacked_tensor.shape)\n",
    "\n",
    "# 可视化\n",
    "plt.imshow(stacked_tensor.numpy()/stacked_tensor.numpy().max(), cmap='viridis', aspect='auto')\n",
    "# 设置横坐标的刻度为双数\n",
    "plt.xticks(np.arange(0, 20, 2))\n",
    "\n",
    "# 设置横坐标和纵坐标的字号\n",
    "plt.xticks(fontsize=13)\n",
    "plt.yticks(fontsize=13)\n",
    "plt.colorbar()\n",
    "plt.savefig('step0_10.pdf')\n",
    "plt.show()\n",
    "# 保存图形为PDF文件\n"
   ]
  },
  {
   "cell_type": "code",
   "execution_count": 96,
   "id": "precise-interference",
   "metadata": {},
   "outputs": [
    {
     "name": "stdout",
     "output_type": "stream",
     "text": [
      "Compressed Tensor Shape: torch.Size([51, 20])\n"
     ]
    },
    {
     "data": {
      "image/png": "[encoded data removed]",
      "text/plain": [
       "<Figure size 432x288 with 2 Axes>"
      ]
     },
     "metadata": {
      "needs_background": "light"
     },
     "output_type": "display_data"
    }
   ],
   "source": [
    "import torch\n",
    "import torch.nn.functional as F\n",
    "import matplotlib.pyplot as plt\n",
    "import numpy as np\n",
    "import os\n",
    "# 创建一个形状为 (21, 512, 512) 的示例张量\n",
    "# tensor = torch.randn(21, 512, 512)\n",
    "\n",
    "path = \"./demo/cisdq/voc_15_1_1/\"\n",
    "image_list = os.listdir(path)\n",
    "tensor_list = []\n",
    "for idx,name in enumerate(image_list):\n",
    "    if idx>50:\n",
    "        break\n",
    "    \n",
    "    name_p = os.path.join(path,name)\n",
    "    # 从.npy文件加载数据\n",
    "    data_np = np.load(name_p)\n",
    "\n",
    "    # 将NumPy数组转换为PyTorch张量\n",
    "    data_tensor = torch.from_numpy(data_np)[1:]\n",
    "    \n",
    "#     print(data_tensor.shape)\n",
    "#     assert False\n",
    "    # 进行全局平均池化，将 (512, 512) 降为 (1, 1)\n",
    "    pooled_tensor = F.adaptive_avg_pool2d(data_tensor, (1, 1))\n",
    "\n",
    "    # 将结果展平为一维\n",
    "    flattened_tensor = pooled_tensor.view(-1)\n",
    "    flattened_tensor[15:] = flattened_tensor[15:] - 0.2\n",
    "    flattened_tensor[flattened_tensor<0] = 0\n",
    "    for i in range(len(flattened_tensor)):\n",
    "        if i>=15 and flattened_tensor[i]!=flattened_tensor.max():\n",
    "            flattened_tensor[i]=0\n",
    "    tensor_list.append(flattened_tensor)\n",
    "    # 打印压缩后的张量形状\n",
    "stacked_tensor = torch.stack(tensor_list)\n",
    "print(\"Compressed Tensor Shape:\", stacked_tensor.shape)\n",
    "\n",
    "# 可视化\n",
    "plt.imshow(stacked_tensor.numpy()/stacked_tensor.numpy().max(), cmap='viridis', aspect='auto')\n",
    "# 设置横坐标的刻度为双数\n",
    "plt.xticks(np.arange(0, 20, 2))\n",
    "\n",
    "# 设置横坐标和纵坐标的字号\n",
    "plt.xticks(fontsize=13)\n",
    "plt.yticks(fontsize=13)\n",
    "plt.colorbar()\n",
    "plt.savefig('step1_10.pdf')\n",
    "plt.show()\n",
    "# 保存图形为PDF文件\n"
   ]
  },
  {
   "cell_type": "code",
   "execution_count": 95,
   "id": "understanding-failure",
   "metadata": {},
   "outputs": [
    {
     "name": "stdout",
     "output_type": "stream",
     "text": [
      "Compressed Tensor Shape: torch.Size([51, 20])\n"
     ]
    },
    {
     "data": {
      "image/png": "[encoded data removed]",
      "text/plain": [
       "<Figure size 432x288 with 2 Axes>"
      ]
     },
     "metadata": {
      "needs_background": "light"
     },
     "output_type": "display_data"
    }
   ],
   "source": [
    "import torch\n",
    "import torch.nn.functional as F\n",
    "import matplotlib.pyplot as plt\n",
    "import numpy as np\n",
    "import os\n",
    "import random\n",
    "# 创建一个形状为 (21, 512, 512) 的示例张量\n",
    "# tensor = torch.randn(21, 512, 512)\n",
    "# 设置随机数种子，以确保结果可重复\n",
    "torch.manual_seed(42)\n",
    "# 设置稀疏化的比例，这里假设稀疏化比例为0.5\n",
    "sparsity_ratio = 0.5\n",
    "# 计算要稀疏化的元素个数\n",
    "dense_matrix = torch.randn(5, 20)\n",
    "num_elements_to_keep = int((1 - sparsity_ratio) * dense_matrix.numel())\n",
    "\n",
    "path = \"./demo/cisdq/voc_15_1_2/\"\n",
    "image_list = os.listdir(path)\n",
    "tensor_list = []\n",
    "for idx,name in enumerate(image_list):\n",
    "    if idx>50:\n",
    "        break\n",
    "    \n",
    "    name_p = os.path.join(path,name)\n",
    "    # 从.npy文件加载数据\n",
    "    data_np = np.load(name_p)\n",
    "\n",
    "    # 将NumPy数组转换为PyTorch张量\n",
    "    data_tensor = torch.from_numpy(data_np)[1:]\n",
    "    \n",
    "#     print(data_tensor.shape)\n",
    "#     assert False\n",
    "    # 进行全局平均池化，将 (512, 512) 降为 (1, 1)\n",
    "    pooled_tensor = F.adaptive_avg_pool2d(data_tensor, (1, 1))\n",
    "\n",
    "    # 将结果展平为一维\n",
    "    flattened_tensor = pooled_tensor.view(-1)\n",
    "    \n",
    "    # 将结果展平为一维\n",
    "    flattened_tensor = pooled_tensor.view(-1)\n",
    "    flattened_tensor[15:] = flattened_tensor[15:] - 0.2\n",
    "    flattened_tensor[flattened_tensor<0] = 0\n",
    "    for i in range(len(flattened_tensor)):\n",
    "        if i>=15 and flattened_tensor[i]!=flattened_tensor.max():\n",
    "            flattened_tensor[i]=0\n",
    "    tensor_list.append(flattened_tensor)\n",
    "#     print(flattened_tensor.shape)\n",
    "    # 打印压缩后的张量形状\n",
    "stacked_tensor = torch.stack(tensor_list)\n",
    "print(\"Compressed Tensor Shape:\", stacked_tensor.shape)\n",
    "\n",
    "haha = stacked_tensor.numpy()/stacked_tensor.numpy().max()\n",
    "\n",
    "\n",
    "# 可视化\n",
    "plt.imshow(haha, cmap='viridis', aspect='auto')\n",
    "# 设置横坐标的刻度为双数\n",
    "plt.xticks(np.arange(0, 20, 2))\n",
    "\n",
    "# 设置横坐标和纵坐标的字号\n",
    "plt.xticks(fontsize=13)\n",
    "plt.yticks(fontsize=13)\n",
    "plt.colorbar()\n",
    "plt.savefig('step2_10.pdf')\n",
    "plt.show()\n",
    "# 保存图形为PDF文件\n"
   ]
  },
  {
   "cell_type": "markdown",
   "id": "settled-hollywood",
   "metadata": {},
   "source": [
    "## step3"
   ]
  },
  {
   "cell_type": "code",
   "execution_count": 94,
   "id": "advisory-rider",
   "metadata": {},
   "outputs": [
    {
     "name": "stdout",
     "output_type": "stream",
     "text": [
      "Compressed Tensor Shape: torch.Size([51, 20])\n"
     ]
    },
    {
     "data": {
      "image/png": "[encoded data removed]",
      "text/plain": [
       "<Figure size 432x288 with 2 Axes>"
      ]
     },
     "metadata": {
      "needs_background": "light"
     },
     "output_type": "display_data"
    }
   ],
   "source": [
    "import torch\n",
    "import torch.nn.functional as F\n",
    "import matplotlib.pyplot as plt\n",
    "import numpy as np\n",
    "import os\n",
    "# 创建一个形状为 (21, 512, 512) 的示例张量\n",
    "# tensor = torch.randn(21, 512, 512)\n",
    "\n",
    "path = \"./demo/cisdq/voc_15_1_3/\"\n",
    "image_list = os.listdir(path)\n",
    "tensor_list = []\n",
    "for idx,name in enumerate(image_list):\n",
    "    if idx>50:\n",
    "        break\n",
    "    \n",
    "    name_p = os.path.join(path,name)\n",
    "    # 从.npy文件加载数据\n",
    "    data_np = np.load(name_p)\n",
    "\n",
    "    # 将NumPy数组转换为PyTorch张量\n",
    "    data_tensor = torch.from_numpy(data_np)[1:]\n",
    "    \n",
    "#     print(data_tensor.shape)\n",
    "#     assert False\n",
    "    # 进行全局平均池化，将 (512, 512) 降为 (1, 1)\n",
    "    pooled_tensor = F.adaptive_avg_pool2d(data_tensor, (1, 1))\n",
    "\n",
    "    # 将结果展平为一维\n",
    "    flattened_tensor = pooled_tensor.view(-1)\n",
    "    flattened_tensor[15:] = flattened_tensor[15:] \n",
    "    flattened_tensor[flattened_tensor<0] = 0\n",
    "    for i in range(len(flattened_tensor)):\n",
    "        if i>=15 and flattened_tensor[i]!=flattened_tensor.max():\n",
    "            flattened_tensor[i]=0\n",
    "    tensor_list.append(flattened_tensor)\n",
    "#     print(flattened_tensor.shape)\n",
    "    # 打印压缩后的张量形状\n",
    "stacked_tensor = torch.stack(tensor_list)\n",
    "print(\"Compressed Tensor Shape:\", stacked_tensor.shape)\n",
    "\n",
    "# 可视化\n",
    "plt.imshow(stacked_tensor.numpy()/stacked_tensor.numpy().max(), cmap='viridis', aspect='auto')\n",
    "# 设置横坐标的刻度为双数\n",
    "plt.xticks(np.arange(0, 20, 2))\n",
    "\n",
    "# 设置横坐标和纵坐标的字号\n",
    "plt.xticks(fontsize=13)\n",
    "plt.yticks(fontsize=13)\n",
    "plt.colorbar()\n",
    "plt.savefig('step3_10.pdf')\n",
    "plt.show()\n",
    "# 保存图形为PDF文件\n"
   ]
  },
  {
   "cell_type": "code",
   "execution_count": 93,
   "id": "british-christianity",
   "metadata": {},
   "outputs": [
    {
     "name": "stdout",
     "output_type": "stream",
     "text": [
      "Compressed Tensor Shape: (51, 20)\n"
     ]
    },
    {
     "data": {
      "image/png": "[encoded data removed]",
      "text/plain": [
       "<Figure size 432x288 with 2 Axes>"
      ]
     },
     "metadata": {
      "needs_background": "light"
     },
     "output_type": "display_data"
    }
   ],
   "source": [
    "import torch\n",
    "import torch.nn.functional as F\n",
    "import matplotlib.pyplot as plt\n",
    "import numpy as np\n",
    "import os\n",
    "# 创建一个形状为 (21, 512, 512) 的示例张量\n",
    "# tensor = torch.randn(21, 512, 512)\n",
    "\n",
    "path = \"./demo/cisdq/voc_15_1_4/\"\n",
    "image_list = os.listdir(path)\n",
    "tensor_list = []\n",
    "for idx,name in enumerate(image_list):\n",
    "    if idx>50:\n",
    "        break\n",
    "    \n",
    "    name_p = os.path.join(path,name)\n",
    "    # 从.npy文件加载数据\n",
    "    data_np = np.load(name_p)\n",
    "\n",
    "    # 将NumPy数组转换为PyTorch张量\n",
    "    data_tensor = torch.from_numpy(data_np)[1:]\n",
    "    \n",
    "#     print(data_tensor.shape)\n",
    "#     assert False\n",
    "    # 进行全局平均池化，将 (512, 512) 降为 (1, 1)\n",
    "    pooled_tensor = F.adaptive_avg_pool2d(data_tensor, (1, 1))\n",
    "\n",
    "    # 将结果展平为一维\n",
    "    # 将结果展平为一维\n",
    "    flattened_tensor = pooled_tensor.view(-1)\n",
    "    flattened_tensor[15:] = flattened_tensor[15:]\n",
    "    flattened_tensor[flattened_tensor<0] = 0\n",
    "    for i in range(len(flattened_tensor)):\n",
    "        if i>=15 and flattened_tensor[i]!=flattened_tensor.max():\n",
    "            flattened_tensor[i]=0\n",
    "    tensor_list.append(flattened_tensor)\n",
    "#     print(flattened_tensor.shape)\n",
    "    # 打印压缩后的张量形状\n",
    "stacked_tensor = torch.stack(tensor_list).numpy()\n",
    "print(\"Compressed Tensor Shape:\", stacked_tensor.shape)\n",
    "\n",
    "stacked_tensor[:,:15] = stacked_tensor[:,:15]/stacked_tensor[:,:15].max()\n",
    "stacked_tensor[:,15:] = stacked_tensor[:,15:]/stacked_tensor[:,15:].max()\n",
    "# stacked_tensor[stacked_tensor[:,15:]!=1]==0\n",
    "# 可视化\n",
    "plt.imshow(stacked_tensor, cmap='viridis', aspect='auto')\n",
    "# 设置横坐标的刻度为双数\n",
    "plt.xticks(np.arange(0, 20, 2))\n",
    "\n",
    "# 设置横坐标和纵坐标的字号\n",
    "plt.xticks(fontsize=13)\n",
    "plt.yticks(fontsize=13)\n",
    "plt.colorbar()\n",
    "plt.savefig('step4_10.pdf')\n",
    "plt.show()\n",
    "# 保存图形为PDF文件\n"
   ]
  },
  {
   "cell_type": "code",
   "execution_count": 98,
   "id": "nasty-ontario",
   "metadata": {},
   "outputs": [
    {
     "name": "stdout",
     "output_type": "stream",
     "text": [
      "Compressed Tensor Shape: (51, 20)\n"
     ]
    },
    {
     "data": {
      "image/png": "[encoded data removed]",
      "text/plain": [
       "<Figure size 432x288 with 2 Axes>"
      ]
     },
     "metadata": {
      "needs_background": "light"
     },
     "output_type": "display_data"
    }
   ],
   "source": [
    "import torch\n",
    "import torch.nn.functional as F\n",
    "import matplotlib.pyplot as plt\n",
    "import numpy as np\n",
    "import os\n",
    "# 创建一个形状为 (21, 512, 512) 的示例张量\n",
    "# tensor = torch.randn(21, 512, 512)\n",
    "\n",
    "path = \"./demo/cisdq/voc_15_1_5/\"\n",
    "image_list = os.listdir(path)\n",
    "tensor_list = []\n",
    "for idx,name in enumerate(image_list):\n",
    "    if idx>50:\n",
    "        break\n",
    "    \n",
    "    name_p = os.path.join(path,name)\n",
    "    # 从.npy文件加载数据\n",
    "    data_np = np.load(name_p)\n",
    "\n",
    "    # 将NumPy数组转换为PyTorch张量\n",
    "    data_tensor = torch.from_numpy(data_np)[1:]\n",
    "    \n",
    "#     print(data_tensor.shape)\n",
    "#     assert False\n",
    "    # 进行全局平均池化，将 (512, 512) 降为 (1, 1)\n",
    "    pooled_tensor = F.adaptive_avg_pool2d(data_tensor, (1, 1))\n",
    "\n",
    "    # 将结果展平为一维\n",
    "    # 将结果展平为一维\n",
    "    flattened_tensor = pooled_tensor.view(-1)\n",
    "    flattened_tensor[15:] = flattened_tensor[15:]\n",
    "    flattened_tensor[flattened_tensor<0] = 0\n",
    "    for i in range(len(flattened_tensor)):\n",
    "        if i>=15 and flattened_tensor[i]!=flattened_tensor.max():\n",
    "            flattened_tensor[i]=0\n",
    "    tensor_list.append(flattened_tensor)\n",
    "#     print(flattened_tensor.shape)\n",
    "    # 打印压缩后的张量形状\n",
    "stacked_tensor = torch.stack(tensor_list).numpy()\n",
    "print(\"Compressed Tensor Shape:\", stacked_tensor.shape)\n",
    "\n",
    "stacked_tensor[:,:15] = stacked_tensor[:,:15]/stacked_tensor[:,:15].max()\n",
    "stacked_tensor[:,15:] = stacked_tensor[:,15:]/stacked_tensor[:,15:].max()\n",
    "# stacked_tensor[stacked_tensor[:,15:]!=1]==0\n",
    "# 可视化\n",
    "plt.imshow(stacked_tensor, cmap='viridis', aspect='auto')\n",
    "# 设置横坐标的刻度为双数\n",
    "plt.xticks(np.arange(0, 20, 2))\n",
    "\n",
    "# 设置横坐标和纵坐标的字号\n",
    "plt.xticks(fontsize=13)\n",
    "plt.yticks(fontsize=13)\n",
    "plt.colorbar()\n",
    "plt.savefig('step5_10.pdf')\n",
    "plt.show()\n",
    "# 保存图形为PDF文件\n"
   ]
  }
 ],
 "metadata": {
  "kernelspec": {
   "display_name": "Python 3",
   "language": "python",
   "name": "python3"
  },
  "language_info": {
   "codemirror_mode": {
    "name": "ipython",
    "version": 3
   },
   "file_extension": ".py",
   "mimetype": "text/x-python",
   "name": "python",
   "nbconvert_exporter": "python",
   "pygments_lexer": "ipython3",
   "version": "3.7.9"
  }
 },
 "nbformat": 4,
 "nbformat_minor": 5
}
